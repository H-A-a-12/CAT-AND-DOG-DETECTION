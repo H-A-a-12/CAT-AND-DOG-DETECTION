{
 "cells": [
  {
   "cell_type": "code",
   "execution_count": 2,
   "metadata": {},
   "outputs": [],
   "source": [
    "from tensorflow.python.keras.preprocessing.image import ImageDataGenerator\n",
    "# Rotation , croping \n",
    "from tensorflow.python.keras.models import Sequential\n",
    "# object sequential cnn extract feature \n",
    "from tensorflow.python.keras.layers import Conv2D,MaxPooling2D\n",
    "from tensorflow.python.keras.layers import Activation, Dropout , Flatten ,Dense  \n",
    "# activation function to activat ethe neural network 1 and -1\n",
    "#dropout means NN prevent the over fit \n",
    "#Dense make the hidden layer or output layer \n",
    "from tensorflow.python.keras import backend as k  # which channel comes first \n",
    "import numpy as np \n",
    "from tensorflow.python.keras.preprocessing import image # import image "
   ]
  },
  {
   "cell_type": "code",
   "execution_count": 8,
   "metadata": {},
   "outputs": [],
   "source": [
    "img_width, img_height=150,150\n",
    "\n",
    "train_data_dir='data/train'\n",
    "validation_data_dir='data/validation'\n",
    "samples=1000\n",
    "val_samples=100\n",
    "epochs=50\n",
    "batch_size=20\n",
    "\n"
   ]
  },
  {
   "cell_type": "code",
   "execution_count": 9,
   "metadata": {},
   "outputs": [],
   "source": [
    "if k.image_data_format() == 'channels_first':\n",
    "    image_shape=(3,img_width,img_height)\n",
    "else:\n",
    "    image_shape=(img_width,img_height,3)\n",
    "\n",
    "train_datagen=ImageDataGenerator(rescale=1./255,shear_range=0.2,zoom_range=0.2,horizontal_flip=True)\n",
    "test_datagen=ImageDataGenerator(rescale=1./255)\n"
   ]
  },
  {
   "cell_type": "code",
   "execution_count": 10,
   "metadata": {
    "scrolled": false
   },
   "outputs": [
    {
     "name": "stdout",
     "output_type": "stream",
     "text": [
      "Found 2023 images belonging to 2 classes.\n"
     ]
    }
   ],
   "source": [
    "train_generator =train_datagen.flow_from_directory(train_data_dir,\n",
    "                                                target_size=(img_width,img_height)\n",
    "                                                ,batch_size=batch_size,class_mode='binary')"
   ]
  },
  {
   "cell_type": "code",
   "execution_count": 11,
   "metadata": {},
   "outputs": [
    {
     "name": "stdout",
     "output_type": "stream",
     "text": [
      "Found 2023 images belonging to 2 classes.\n"
     ]
    }
   ],
   "source": [
    "validation_generator =train_datagen.flow_from_directory(train_data_dir,\n",
    "                                                target_size=(img_width,img_height)\n",
    "                                                ,batch_size=batch_size,class_mode='binary')"
   ]
  },
  {
   "cell_type": "markdown",
   "metadata": {},
   "source": [
    "Neural NETWORK"
   ]
  },
  {
   "cell_type": "code",
   "execution_count": 14,
   "metadata": {
    "scrolled": true
   },
   "outputs": [
    {
     "name": "stdout",
     "output_type": "stream",
     "text": [
      "_________________________________________________________________\n",
      "Layer (type)                 Output Shape              Param #   \n",
      "=================================================================\n",
      "conv2d_12 (Conv2D)           (None, 148, 148, 32)      896       \n",
      "_________________________________________________________________\n",
      "activation_20 (Activation)   (None, 148, 148, 32)      0         \n",
      "_________________________________________________________________\n",
      "max_pooling2d_12 (MaxPooling (None, 74, 74, 32)        0         \n",
      "=================================================================\n",
      "Total params: 896\n",
      "Trainable params: 896\n",
      "Non-trainable params: 0\n",
      "_________________________________________________________________\n",
      "_________________________________________________________________\n",
      "Layer (type)                 Output Shape              Param #   \n",
      "=================================================================\n",
      "conv2d_12 (Conv2D)           (None, 148, 148, 32)      896       \n",
      "_________________________________________________________________\n",
      "activation_20 (Activation)   (None, 148, 148, 32)      0         \n",
      "_________________________________________________________________\n",
      "max_pooling2d_12 (MaxPooling (None, 74, 74, 32)        0         \n",
      "_________________________________________________________________\n",
      "conv2d_13 (Conv2D)           (None, 72, 72, 32)        9248      \n",
      "_________________________________________________________________\n",
      "activation_21 (Activation)   (None, 72, 72, 32)        0         \n",
      "_________________________________________________________________\n",
      "max_pooling2d_13 (MaxPooling (None, 36, 36, 32)        0         \n",
      "_________________________________________________________________\n",
      "conv2d_14 (Conv2D)           (None, 34, 34, 64)        18496     \n",
      "_________________________________________________________________\n",
      "activation_22 (Activation)   (None, 34, 34, 64)        0         \n",
      "_________________________________________________________________\n",
      "max_pooling2d_14 (MaxPooling (None, 17, 17, 64)        0         \n",
      "_________________________________________________________________\n",
      "flatten_4 (Flatten)          (None, 18496)             0         \n",
      "_________________________________________________________________\n",
      "dense_8 (Dense)              (None, 64)                1183808   \n",
      "_________________________________________________________________\n",
      "activation_23 (Activation)   (None, 64)                0         \n",
      "_________________________________________________________________\n",
      "dropout_4 (Dropout)          (None, 64)                0         \n",
      "_________________________________________________________________\n",
      "dense_9 (Dense)              (None, 1)                 65        \n",
      "_________________________________________________________________\n",
      "activation_24 (Activation)   (None, 1)                 0         \n",
      "=================================================================\n",
      "Total params: 1,212,513\n",
      "Trainable params: 1,212,513\n",
      "Non-trainable params: 0\n",
      "_________________________________________________________________\n"
     ]
    }
   ],
   "source": [
    "model=Sequential()\n",
    "model.add(Conv2D(32,(3,3),input_shape=image_shape))\n",
    "model.add(Activation('relu'))\n",
    "model.add(MaxPooling2D(pool_size=(2,2)))\n",
    "model.summary()\n",
    "\n",
    "model.add(Conv2D(32,(3,3)))\n",
    "model.add(Activation('relu'))\n",
    "model.add(MaxPooling2D(pool_size=(2,2)))\n",
    "\n",
    "model.add(Conv2D(64,(3,3)))\n",
    "model.add(Activation('relu'))\n",
    "model.add(MaxPooling2D(pool_size=(2,2)))\n",
    "          \n",
    "model.add(Flatten())\n",
    "model.add(Dense(64))\n",
    "model.add(Activation('relu'))\n",
    "model.add(Dropout(0.5))\n",
    "model.add(Dense(1))\n",
    "model.add(Activation('sigmoid'))\n",
    "\n",
    "model.summary()\n",
    "\n",
    "\n",
    "\n"
   ]
  },
  {
   "cell_type": "code",
   "execution_count": 20,
   "metadata": {},
   "outputs": [],
   "source": [
    "model.compile(loss='binary_crossentropy',\n",
    "             optimizer='rmsprop'\n",
    "            ,metrics=['accuracy'])\n",
    "          \n",
    "\n",
    "          "
   ]
  },
  {
   "cell_type": "code",
   "execution_count": 22,
   "metadata": {
    "scrolled": true
   },
   "outputs": [
    {
     "name": "stdout",
     "output_type": "stream",
     "text": [
      "Epoch 1/50\n",
      "50/50 [==============================] - 105s 2s/step - loss: 0.7036 - acc: 0.5150 - val_loss: 0.6912 - val_acc: 0.5100\n",
      "Epoch 2/50\n",
      "50/50 [==============================] - 85s 2s/step - loss: 0.7013 - acc: 0.5023 - val_loss: 0.6902 - val_acc: 0.6100\n",
      "Epoch 3/50\n",
      "50/50 [==============================] - 65s 1s/step - loss: 0.6955 - acc: 0.5453 - val_loss: 0.6821 - val_acc: 0.5800\n",
      "Epoch 4/50\n",
      "50/50 [==============================] - 68s 1s/step - loss: 0.6944 - acc: 0.5550 - val_loss: 0.6816 - val_acc: 0.6200\n",
      "Epoch 5/50\n",
      "50/50 [==============================] - 63s 1s/step - loss: 0.6738 - acc: 0.6000 - val_loss: 0.6503 - val_acc: 0.6400\n",
      "Epoch 6/50\n",
      "50/50 [==============================] - 62s 1s/step - loss: 0.6788 - acc: 0.6070 - val_loss: 0.6373 - val_acc: 0.6500\n",
      "Epoch 7/50\n",
      "50/50 [==============================] - 61s 1s/step - loss: 0.6651 - acc: 0.6058 - val_loss: 0.6298 - val_acc: 0.6500\n",
      "Epoch 8/50\n",
      "50/50 [==============================] - 61s 1s/step - loss: 0.6727 - acc: 0.6343 - val_loss: 0.6198 - val_acc: 0.7000\n",
      "Epoch 9/50\n",
      "50/50 [==============================] - 62s 1s/step - loss: 0.6558 - acc: 0.6250 - val_loss: 0.5955 - val_acc: 0.6400\n",
      "Epoch 10/50\n",
      "50/50 [==============================] - 61s 1s/step - loss: 0.6305 - acc: 0.6379 - val_loss: 0.7323 - val_acc: 0.5600\n",
      "Epoch 11/50\n",
      "50/50 [==============================] - 61s 1s/step - loss: 0.6298 - acc: 0.6608 - val_loss: 0.5675 - val_acc: 0.6600\n",
      "Epoch 12/50\n",
      "50/50 [==============================] - 62s 1s/step - loss: 0.6240 - acc: 0.6680 - val_loss: 0.5214 - val_acc: 0.7600\n",
      "Epoch 13/50\n",
      "50/50 [==============================] - 61s 1s/step - loss: 0.6326 - acc: 0.6518 - val_loss: 0.5858 - val_acc: 0.6800\n",
      "Epoch 14/50\n",
      "50/50 [==============================] - 62s 1s/step - loss: 0.6214 - acc: 0.6360 - val_loss: 0.5284 - val_acc: 0.7200\n",
      "Epoch 15/50\n",
      "50/50 [==============================] - 62s 1s/step - loss: 0.6058 - acc: 0.6710 - val_loss: 0.5754 - val_acc: 0.7100\n",
      "Epoch 16/50\n",
      "50/50 [==============================] - 61s 1s/step - loss: 0.5836 - acc: 0.6973 - val_loss: 0.5805 - val_acc: 0.6900\n",
      "Epoch 17/50\n",
      "50/50 [==============================] - 61s 1s/step - loss: 0.6180 - acc: 0.6849 - val_loss: 0.5303 - val_acc: 0.7200\n",
      "Epoch 18/50\n",
      "50/50 [==============================] - 62s 1s/step - loss: 0.5761 - acc: 0.7000 - val_loss: 0.5369 - val_acc: 0.6900\n",
      "Epoch 19/50\n",
      "50/50 [==============================] - 61s 1s/step - loss: 0.5906 - acc: 0.6758 - val_loss: 0.4837 - val_acc: 0.7600\n",
      "Epoch 20/50\n",
      "50/50 [==============================] - 62s 1s/step - loss: 0.5932 - acc: 0.6940 - val_loss: 0.6138 - val_acc: 0.6600\n",
      "Epoch 21/50\n",
      "50/50 [==============================] - 61s 1s/step - loss: 0.5718 - acc: 0.7030 - val_loss: 0.5357 - val_acc: 0.7400\n",
      "Epoch 22/50\n",
      "50/50 [==============================] - 61s 1s/step - loss: 0.5540 - acc: 0.7364 - val_loss: 0.4955 - val_acc: 0.7600\n",
      "Epoch 23/50\n",
      "50/50 [==============================] - 61s 1s/step - loss: 0.5916 - acc: 0.6850 - val_loss: 0.4561 - val_acc: 0.7600\n",
      "Epoch 24/50\n",
      "50/50 [==============================] - 61s 1s/step - loss: 0.5462 - acc: 0.7358 - val_loss: 0.4748 - val_acc: 0.7500\n",
      "Epoch 25/50\n",
      "50/50 [==============================] - 62s 1s/step - loss: 0.5498 - acc: 0.6950 - val_loss: 0.4603 - val_acc: 0.7700\n",
      "Epoch 26/50\n",
      "50/50 [==============================] - 61s 1s/step - loss: 0.5453 - acc: 0.7284 - val_loss: 0.4681 - val_acc: 0.7400\n",
      "Epoch 27/50\n",
      "50/50 [==============================] - 62s 1s/step - loss: 0.5371 - acc: 0.7340 - val_loss: 0.4614 - val_acc: 0.7500\n",
      "Epoch 28/50\n",
      "50/50 [==============================] - 61s 1s/step - loss: 0.5593 - acc: 0.7093 - val_loss: 0.4399 - val_acc: 0.7800\n",
      "Epoch 29/50\n",
      "50/50 [==============================] - 62s 1s/step - loss: 0.5416 - acc: 0.7470 - val_loss: 0.5838 - val_acc: 0.7300\n",
      "Epoch 30/50\n",
      "50/50 [==============================] - 61s 1s/step - loss: 0.5053 - acc: 0.7559 - val_loss: 0.4462 - val_acc: 0.7900\n",
      "Epoch 31/50\n",
      "50/50 [==============================] - 61s 1s/step - loss: 0.5687 - acc: 0.7304 - val_loss: 0.4940 - val_acc: 0.8000\n",
      "Epoch 32/50\n",
      "50/50 [==============================] - 62s 1s/step - loss: 0.5120 - acc: 0.7680 - val_loss: 0.4888 - val_acc: 0.7300\n",
      "Epoch 33/50\n",
      "50/50 [==============================] - 62s 1s/step - loss: 0.5350 - acc: 0.7220 - val_loss: 0.4348 - val_acc: 0.8400\n",
      "Epoch 34/50\n",
      "50/50 [==============================] - 61s 1s/step - loss: 0.4962 - acc: 0.7534 - val_loss: 0.4536 - val_acc: 0.8300\n",
      "Epoch 35/50\n",
      "50/50 [==============================] - 62s 1s/step - loss: 0.5109 - acc: 0.7590 - val_loss: 0.3672 - val_acc: 0.8700\n",
      "Epoch 36/50\n",
      "50/50 [==============================] - 61s 1s/step - loss: 0.5362 - acc: 0.7460 - val_loss: 0.3907 - val_acc: 0.8300\n",
      "Epoch 37/50\n",
      "50/50 [==============================] - 61s 1s/step - loss: 0.5233 - acc: 0.7579 - val_loss: 0.4124 - val_acc: 0.8200\n",
      "Epoch 38/50\n",
      "50/50 [==============================] - 61s 1s/step - loss: 0.5177 - acc: 0.7629 - val_loss: 0.4126 - val_acc: 0.8400\n",
      "Epoch 39/50\n",
      "50/50 [==============================] - 61s 1s/step - loss: 0.5080 - acc: 0.7488 - val_loss: 0.5377 - val_acc: 0.7300\n",
      "Epoch 40/50\n",
      "50/50 [==============================] - 62s 1s/step - loss: 0.5266 - acc: 0.7470 - val_loss: 0.5365 - val_acc: 0.7700\n",
      "Epoch 41/50\n",
      "50/50 [==============================] - 62s 1s/step - loss: 0.4743 - acc: 0.7920 - val_loss: 0.4401 - val_acc: 0.8000\n",
      "Epoch 42/50\n",
      "50/50 [==============================] - 62s 1s/step - loss: 0.4832 - acc: 0.7770 - val_loss: 0.3849 - val_acc: 0.8200\n",
      "Epoch 43/50\n",
      "50/50 [==============================] - 61s 1s/step - loss: 0.5254 - acc: 0.7324 - val_loss: 0.4240 - val_acc: 0.8000\n",
      "Epoch 44/50\n",
      "50/50 [==============================] - 61s 1s/step - loss: 0.4664 - acc: 0.7849 - val_loss: 0.4688 - val_acc: 0.8100\n",
      "Epoch 45/50\n",
      "50/50 [==============================] - 62s 1s/step - loss: 0.4789 - acc: 0.7690 - val_loss: 0.3521 - val_acc: 0.8300\n",
      "Epoch 46/50\n",
      "50/50 [==============================] - 62s 1s/step - loss: 0.4585 - acc: 0.7830 - val_loss: 0.4810 - val_acc: 0.7400\n",
      "Epoch 47/50\n",
      "50/50 [==============================] - 61s 1s/step - loss: 0.4850 - acc: 0.7779 - val_loss: 0.7090 - val_acc: 0.7400\n",
      "Epoch 48/50\n",
      "50/50 [==============================] - 62s 1s/step - loss: 0.4736 - acc: 0.7860 - val_loss: 0.4104 - val_acc: 0.8000\n",
      "Epoch 49/50\n",
      "50/50 [==============================] - 61s 1s/step - loss: 0.4859 - acc: 0.7714 - val_loss: 0.4529 - val_acc: 0.8100\n",
      "Epoch 50/50\n",
      "50/50 [==============================] - 61s 1s/step - loss: 0.4458 - acc: 0.8029 - val_loss: 0.3414 - val_acc: 0.8700\n"
     ]
    }
   ],
   "source": [
    "model.fit_generator(train_generator,\n",
    "                   steps_per_epoch=samples//batch_size,\n",
    "                   epochs=epochs,\n",
    "                   validation_data=validation_generator,\n",
    "                   validation_steps=val_samples//batch_size)\n",
    "          \n",
    "model.save_weights('first_try.h5')"
   ]
  },
  {
   "cell_type": "code",
   "execution_count": 1,
   "metadata": {
    "collapsed": true
   },
   "outputs": [
    {
     "ename": "NameError",
     "evalue": "name 'image' is not defined",
     "output_type": "error",
     "traceback": [
      "\u001b[1;31m---------------------------------------------------------------------------\u001b[0m",
      "\u001b[1;31mNameError\u001b[0m                                 Traceback (most recent call last)",
      "\u001b[1;32m<ipython-input-1-ba2058475460>\u001b[0m in \u001b[0;36m<module>\u001b[1;34m\u001b[0m\n\u001b[1;32m----> 1\u001b[1;33m \u001b[0mimg_pred\u001b[0m\u001b[1;33m=\u001b[0m \u001b[0mimage\u001b[0m\u001b[1;33m.\u001b[0m\u001b[0mload_img\u001b[0m\u001b[1;33m(\u001b[0m\u001b[1;34mr'D:\\DEEP LEARNING\\cat-dog detection\\data\\validation\\cats\\cat.2.jpg'\u001b[0m\u001b[1;33m,\u001b[0m\u001b[0mtarget_size\u001b[0m\u001b[1;33m=\u001b[0m\u001b[1;33m(\u001b[0m\u001b[1;36m150\u001b[0m\u001b[1;33m,\u001b[0m\u001b[1;36m150\u001b[0m\u001b[1;33m)\u001b[0m\u001b[1;33m)\u001b[0m\u001b[1;33m\u001b[0m\u001b[0m\n\u001b[0m\u001b[0;32m      2\u001b[0m \u001b[1;33m\u001b[0m\u001b[0m\n\u001b[0;32m      3\u001b[0m \u001b[0mimg_pred\u001b[0m\u001b[1;33m=\u001b[0m\u001b[0mimage\u001b[0m\u001b[1;33m.\u001b[0m\u001b[0mimg_to_array\u001b[0m\u001b[1;33m(\u001b[0m\u001b[0mimg_pred\u001b[0m\u001b[1;33m)\u001b[0m\u001b[1;33m\u001b[0m\u001b[0m\n\u001b[0;32m      4\u001b[0m \u001b[0mimg_pred\u001b[0m\u001b[1;33m=\u001b[0m\u001b[0mnp\u001b[0m\u001b[1;33m.\u001b[0m\u001b[0mexpand_dims\u001b[0m\u001b[1;33m(\u001b[0m\u001b[0mimg_pred\u001b[0m\u001b[1;33m,\u001b[0m\u001b[0maxis\u001b[0m\u001b[1;33m=\u001b[0m\u001b[1;36m0\u001b[0m\u001b[1;33m)\u001b[0m\u001b[1;33m\u001b[0m\u001b[0m\n",
      "\u001b[1;31mNameError\u001b[0m: name 'image' is not defined"
     ]
    }
   ],
   "source": [
    "img_pred= image.load_img(r'D:\\DEEP LEARNING\\cat-dog detection\\data\\validation\\cats\\cat.2.jpg',target_size=(150,150))\n",
    "          \n",
    "img_pred=image.img_to_array(img_pred)\n",
    "img_pred=np.expand_dims(img_pred,axis=0)"
   ]
  },
  {
   "cell_type": "code",
   "execution_count": 35,
   "metadata": {},
   "outputs": [
    {
     "name": "stdout",
     "output_type": "stream",
     "text": [
      "[[0.]]\n",
      "cat\n"
     ]
    }
   ],
   "source": [
    "result=model.predict(img_pred)\n",
    "print(result)\n",
    "if result[0][0]=='dog':\n",
    "    prediction=\"cat\"\n",
    "else:\n",
    "    prediction=\"dog\"\n",
    "\n",
    "print(prediction)"
   ]
  },
  {
   "cell_type": "code",
   "execution_count": null,
   "metadata": {},
   "outputs": [],
   "source": []
  }
 ],
 "metadata": {
  "kernelspec": {
   "display_name": "Python 3",
   "language": "python",
   "name": "python3"
  },
  "language_info": {
   "codemirror_mode": {
    "name": "ipython",
    "version": 3
   },
   "file_extension": ".py",
   "mimetype": "text/x-python",
   "name": "python",
   "nbconvert_exporter": "python",
   "pygments_lexer": "ipython3",
   "version": "3.6.3"
  }
 },
 "nbformat": 4,
 "nbformat_minor": 4
}
